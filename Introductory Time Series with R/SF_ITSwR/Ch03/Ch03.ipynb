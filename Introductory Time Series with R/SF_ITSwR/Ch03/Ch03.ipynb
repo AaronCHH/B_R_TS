{
 "cells": [
  {
   "cell_type": "markdown",
   "metadata": {},
   "source": [
    "###3.2.2 Building approvals publication\n",
    "###Building approvals and building activity time series"
   ]
  },
  {
   "cell_type": "code",
   "execution_count": null,
   "metadata": {
    "collapsed": false
   },
   "outputs": [],
   "source": [
    "# www <- \"http://www.massey.ac.nz/~pscowper/ts/ApprovActiv.dat\"\n",
    "Build.dat <- read.table('ApprovActiv.dat', header=T) ; attach(Build.dat)\n",
    "App.ts <- ts(Approvals, start = c(1996,1), freq=4)\n",
    "Act.ts <- ts(Activity, start = c(1996,1), freq=4)\n",
    "ts.plot(App.ts, Act.ts, lty = c(1,3))"
   ]
  },
  {
   "cell_type": "markdown",
   "metadata": {},
   "source": [
    "###Cross-correlation b etween building approvals and activity"
   ]
  },
  {
   "cell_type": "code",
   "execution_count": null,
   "metadata": {
    "collapsed": false
   },
   "outputs": [],
   "source": [
    "acf(ts.union(App.ts, Act.ts))"
   ]
  },
  {
   "cell_type": "code",
   "execution_count": null,
   "metadata": {
    "collapsed": false
   },
   "outputs": [],
   "source": [
    "app.ran <- decompose(App.ts)$random\n",
    "app.ran.ts <- window(app.ran, start = c(1996, 3) )\n",
    "act.ran <- decompose(Act.ts)$random\n",
    "act.ran.ts <- window(act.ran, start = c(1996, 3) )\n",
    "acf (ts.union(app.ran.ts, act.ran.ts))\n",
    "ccf (app.ran.ts, act.ran.ts)"
   ]
  },
  {
   "cell_type": "code",
   "execution_count": null,
   "metadata": {
    "collapsed": false
   },
   "outputs": [],
   "source": [
    " print(acf(ts.union(app.ran.ts, act.ran.ts)))"
   ]
  },
  {
   "cell_type": "markdown",
   "metadata": {},
   "source": [
    "### 3.3.4 Example"
   ]
  },
  {
   "cell_type": "code",
   "execution_count": null,
   "metadata": {
    "collapsed": true
   },
   "outputs": [],
   "source": [
    "# Chapter 3, p52-53, Bass curve fitted using nls\n",
    "T79 <- 1:10\n",
    "Tdelt <- (1:100) / 10\n",
    "Sales <- c(840,1470,2110,4000, 7590, 10950, 10530, 9470, 7790, 5890)"
   ]
  },
  {
   "cell_type": "code",
   "execution_count": null,
   "metadata": {
    "collapsed": true
   },
   "outputs": [],
   "source": [
    "Cusales <- cumsum(Sales)"
   ]
  },
  {
   "cell_type": "code",
   "execution_count": null,
   "metadata": {
    "collapsed": true
   },
   "outputs": [],
   "source": [
    "Bass.nls <- nls(Sales ~ M * ( ((P+Q)^2 / P) * exp(-(P+Q) * T79) ) /\n",
    "  (1+(Q/P)*exp(-(P+Q)*T79))^2, start = list(M=60630, P=0.03, Q=0.38))"
   ]
  },
  {
   "cell_type": "code",
   "execution_count": null,
   "metadata": {
    "collapsed": false
   },
   "outputs": [],
   "source": [
    "summary(Bass.nls)"
   ]
  },
  {
   "cell_type": "code",
   "execution_count": null,
   "metadata": {
    "collapsed": true
   },
   "outputs": [],
   "source": [
    "Bcoef <- coef(Bass.nls)\n",
    "m <- Bcoef[1]\n",
    "p <- Bcoef[2]\n",
    "q <- Bcoef[3]"
   ]
  },
  {
   "cell_type": "code",
   "execution_count": null,
   "metadata": {
    "collapsed": false
   },
   "outputs": [],
   "source": [
    "ngete <- exp(-(p+q) * Tdelt)\n",
    "Bpdf <- m * ( (p+q)^2 / p ) * ngete / (1 + (q/p) * ngete)^2\n",
    "plot(Tdelt, Bpdf, xlab = \"Year from 1979\", \n",
    "                    ylab = \"Sales per year\", type='l')\n",
    "points(T79, Sales)"
   ]
  },
  {
   "cell_type": "code",
   "execution_count": null,
   "metadata": {
    "collapsed": false
   },
   "outputs": [],
   "source": [
    "Bcdf <- m * (1 - ngete)/(1 + (q/p)*ngete)\n",
    "plot(Tdelt, Bcdf, xlab = \"Year from 1979\", \n",
    "                    ylab = \"Cumulative sales\", type='l')\n",
    "points(T79, Cusales)"
   ]
  },
  {
   "cell_type": "markdown",
   "metadata": {},
   "source": [
    "###Complaints to a motoring organisation"
   ]
  },
  {
   "cell_type": "code",
   "execution_count": null,
   "metadata": {
    "collapsed": false
   },
   "outputs": [],
   "source": [
    "# www <- \"http://www.massey.ac.nz/~pscowper/ts/motororg.dat\"\n",
    "Motor.dat <- read.table('motororg.dat', header = T); attach(Motor.dat)\n",
    "Comp.ts <- ts(complaints, start = c(1996, 1), freq = 12)\n",
    "plot(Comp.ts, xlab = \"Time / months\", ylab = \"Complaints\")"
   ]
  },
  {
   "cell_type": "code",
   "execution_count": null,
   "metadata": {
    "collapsed": false
   },
   "outputs": [],
   "source": [
    "Comp.hw1 <- HoltWinters(complaints, beta = 0, gamma = 0); Comp.hw1\n",
    "plot(Comp.hw1)"
   ]
  },
  {
   "cell_type": "code",
   "execution_count": null,
   "metadata": {
    "collapsed": false
   },
   "outputs": [],
   "source": [
    "Comp.hw1$SSE"
   ]
  },
  {
   "cell_type": "code",
   "execution_count": null,
   "metadata": {
    "collapsed": false
   },
   "outputs": [],
   "source": [
    "complaints"
   ]
  },
  {
   "cell_type": "code",
   "execution_count": null,
   "metadata": {
    "collapsed": false
   },
   "outputs": [],
   "source": [
    "length(complaints)"
   ]
  },
  {
   "cell_type": "markdown",
   "metadata": {},
   "source": [
    "##3.4.2 Holt-Winters method"
   ]
  },
  {
   "cell_type": "markdown",
   "metadata": {},
   "source": [
    "### Sales of Australian wine"
   ]
  },
  {
   "cell_type": "code",
   "execution_count": null,
   "metadata": {
    "collapsed": false
   },
   "outputs": [],
   "source": [
    "# www <- \"http://www.massey.ac.nz/~pscowper/ts/wine.dat\"\n",
    "wine.dat <- read.table('wine.dat', header = T) ; attach (wine.dat)\n",
    "sweetw.ts <- ts(sweetw, start = c(1980,1), freq = 12)\n",
    "plot(sweetw.ts, xlab= \"Time (months)\", ylab = \"sales (1000 litres)\")\n",
    "sweetw.hw <- HoltWinters (sweetw.ts, seasonal = \"mult\")\n",
    "sweetw.hw ; sweetw.hw$coef ; sweetw.hw$SSE"
   ]
  },
  {
   "cell_type": "markdown",
   "metadata": {},
   "source": [
    "###3.4.2 Holt-Winters method"
   ]
  },
  {
   "cell_type": "code",
   "execution_count": null,
   "metadata": {
    "collapsed": false
   },
   "outputs": [],
   "source": [
    "AP <- AirPassengers\n",
    "AP.hw <- HoltWinters(AP, seasonal = \"mult\")\n",
    "plot(AP.hw)\n",
    "AP.predict <- predict(AP.hw, n.ahead = 4 * 12)\n",
    "ts.plot(AP, AP.predict, lty = 1:2)"
   ]
  },
  {
   "cell_type": "code",
   "execution_count": null,
   "metadata": {
    "collapsed": true
   },
   "outputs": [],
   "source": []
  }
 ],
 "metadata": {
  "kernelspec": {
   "display_name": "R",
   "language": "R",
   "name": "ir"
  },
  "language_info": {
   "codemirror_mode": "r",
   "file_extension": ".r",
   "mimetype": "text/x-r-source",
   "name": "R",
   "pygments_lexer": "r",
   "version": "3.1.3"
  }
 },
 "nbformat": 4,
 "nbformat_minor": 0
}
