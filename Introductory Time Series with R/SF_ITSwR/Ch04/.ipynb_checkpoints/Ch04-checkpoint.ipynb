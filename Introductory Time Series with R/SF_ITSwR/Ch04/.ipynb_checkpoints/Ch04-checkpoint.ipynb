{
 "cells": [
  {
   "cell_type": "markdown",
   "metadata": {},
   "source": [
    "###Purpose 79\n",
    "###White noise 80\n",
    "####Introduction 80\n",
    "####Definition 80\n",
    "####Simulation in R 80"
   ]
  },
  {
   "cell_type": "code",
   "execution_count": null,
   "metadata": {
    "collapsed": false,
    "scrolled": false
   },
   "outputs": [],
   "source": [
    "set.seed(1)\n",
    "w <- rnorm(100)\n",
    "plot(w, type = \"l\")"
   ]
  },
  {
   "cell_type": "code",
   "execution_count": null,
   "metadata": {
    "collapsed": false
   },
   "outputs": [],
   "source": [
    "x <- seq(-3,3, length = 1000)\n",
    "hist(rnorm(100), prob = T); points(x, dnorm(x), type = \"l\")"
   ]
  },
  {
   "cell_type": "code",
   "execution_count": null,
   "metadata": {
    "collapsed": false
   },
   "outputs": [],
   "source": [
    "set.seed(2)\n",
    "acf(rnorm(100))"
   ]
  },
  {
   "cell_type": "markdown",
   "metadata": {},
   "source": [
    "####Second-order properties and the correlogram 81\n",
    "####Fitting a white noise model 82\n",
    "###Random walks 83\n",
    "####Introduction 83\n",
    "####Definition 83\n",
    "####The backward shift operator 83\n",
    "####Random walk: Second-order properties 84\n",
    "####Derivation of second-order properties* 84\n",
    "####The difference operator 84\n",
    "####Simulation 85"
   ]
  },
  {
   "cell_type": "code",
   "execution_count": null,
   "metadata": {
    "collapsed": false
   },
   "outputs": [],
   "source": [
    "x <- w <- rnorm(1000)\n",
    "for (t in 2:1000) x[t] <- x[t - 1] + w[t]\n",
    "plot(x, type = \"l\")"
   ]
  },
  {
   "cell_type": "markdown",
   "metadata": {},
   "source": [
    "###Fitted models and diagnostic plots 86\n",
    "####Simulated random walk series 86"
   ]
  },
  {
   "cell_type": "code",
   "execution_count": null,
   "metadata": {
    "collapsed": false
   },
   "outputs": [],
   "source": [
    "acf(diff(x))"
   ]
  },
  {
   "cell_type": "markdown",
   "metadata": {},
   "source": [
    "####Exchange rate series 87"
   ]
  },
  {
   "cell_type": "code",
   "execution_count": null,
   "metadata": {
    "collapsed": false
   },
   "outputs": [],
   "source": [
    "Z.hw <- HoltWinters(Z.ts, alpha = 1, gamma = 0)\n",
    "acf(resid(Z.hw))"
   ]
  },
  {
   "cell_type": "markdown",
   "metadata": {},
   "source": [
    "####Random walk with drift 89"
   ]
  },
  {
   "cell_type": "code",
   "execution_count": null,
   "metadata": {
    "collapsed": false,
    "scrolled": true
   },
   "outputs": [],
   "source": [
    "# www <- \"http://www.massey.ac.nz/~pscowper/ts/HP.txt\"\n",
    "HP.dat <- read.table('HP.txt', header = T) ; attach(HP.dat)\n",
    "plot(as.ts(Price))\n",
    "DP <- diff(Price) ; plot (as.ts(DP)) ; acf (DP)\n",
    "mean(DP) + c(-2, 2) * sd(DP)/sqrt(length(DP))"
   ]
  },
  {
   "cell_type": "markdown",
   "metadata": {},
   "source": [
    "###Autoregressive models 91\n",
    "####Definition 91\n",
    "####Stationary and non-stationary AR processes 91\n",
    "####Second-order properties of an AR(1) model 92\n",
    "####Derivation of second-order properties for an AR(1) process* 92\n",
    "####Correlogram of an AR(1) process 93"
   ]
  },
  {
   "cell_type": "code",
   "execution_count": null,
   "metadata": {
    "collapsed": false
   },
   "outputs": [],
   "source": [
    "rho <- function(k, alpha) alpha^k\n",
    "layout(1:2)\n",
    "plot(0:10, rho(0:10, 0.7), type = \"b\")\n",
    "plot(0:10, rho(0:10, -0.7), type = \"b\")"
   ]
  },
  {
   "cell_type": "markdown",
   "metadata": {},
   "source": [
    "####Partial autocorrelation 93"
   ]
  },
  {
   "cell_type": "markdown",
   "metadata": {},
   "source": [
    "####Simulation 93"
   ]
  },
  {
   "cell_type": "code",
   "execution_count": null,
   "metadata": {
    "collapsed": false
   },
   "outputs": [],
   "source": [
    "set.seed(1)\n",
    "x <- w <- rnorm(100)\n",
    "for (t in 2:100) x[t] <- 0.7 * x[t - 1] + w[t]\n",
    "plot(x, type = \"l\")\n",
    "acf(x)\n",
    "pacf(x)"
   ]
  },
  {
   "cell_type": "markdown",
   "metadata": {},
   "source": [
    "###Fitted models 94"
   ]
  },
  {
   "cell_type": "markdown",
   "metadata": {},
   "source": [
    "####Model fitted to simulated series 94"
   ]
  },
  {
   "cell_type": "code",
   "execution_count": null,
   "metadata": {
    "collapsed": false
   },
   "outputs": [],
   "source": [
    "x.ar <- ar(x, method = \"mle\")\n",
    "x.ar$order"
   ]
  },
  {
   "cell_type": "code",
   "execution_count": null,
   "metadata": {
    "collapsed": false,
    "scrolled": true
   },
   "outputs": [],
   "source": [
    "x.ar$ar"
   ]
  },
  {
   "cell_type": "code",
   "execution_count": null,
   "metadata": {
    "collapsed": false
   },
   "outputs": [],
   "source": [
    "x.ar$ar + c(-2, 2) * sqrt(x.ar$asy.var)"
   ]
  },
  {
   "cell_type": "markdown",
   "metadata": {},
   "source": [
    "####Exchange rate series: Fitted AR model 96"
   ]
  },
  {
   "cell_type": "code",
   "execution_count": null,
   "metadata": {
    "collapsed": false
   },
   "outputs": [],
   "source": [
    "Z.ar <- ar(Z.ts)\n",
    "mean(Z.ts)\n",
    "Z.ar$order\n",
    "Z.ar$ar\n",
    "Z.ar$ar + c(-2, 2) * sqrt(Z.ar$asy.var)\n",
    "acf(Z.ar$res[-1])"
   ]
  },
  {
   "cell_type": "markdown",
   "metadata": {},
   "source": [
    "####Global temperature series: Fitted AR model 97"
   ]
  },
  {
   "cell_type": "code",
   "execution_count": null,
   "metadata": {
    "collapsed": false
   },
   "outputs": [],
   "source": [
    "# www = \"http://www.massey.ac.nz/~pscowper/ts/global.dat\"\n",
    "Global = scan('global.dat')\n",
    "Global.ts = ts(Global, st = c(1856, 1), end = c(2005, 12),fr = 12)\n",
    "Global.ar <- ar(aggregate(Global.ts, FUN = mean), method = \"mle\")\n",
    "mean(aggregate(Global.ts, FUN = mean))\n",
    "Global.ar$order\n",
    "Global.ar$ar\n",
    "acf(Global.ar$res[-(1:Global.ar$order)], lag = 50)"
   ]
  },
  {
   "cell_type": "markdown",
   "metadata": {},
   "source": [
    "###Summary of R commands 99\n",
    "###Exercises 99"
   ]
  },
  {
   "cell_type": "code",
   "execution_count": null,
   "metadata": {
    "collapsed": true
   },
   "outputs": [],
   "source": []
  }
 ],
 "metadata": {
  "kernelspec": {
   "display_name": "R",
   "language": "R",
   "name": "ir"
  },
  "language_info": {
   "codemirror_mode": "r",
   "file_extension": ".r",
   "mimetype": "text/x-r-source",
   "name": "R",
   "pygments_lexer": "r",
   "version": "3.1.3"
  }
 },
 "nbformat": 4,
 "nbformat_minor": 0
}
