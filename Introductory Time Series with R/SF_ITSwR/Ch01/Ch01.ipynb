{
 "cells": [
  {
   "cell_type": "markdown",
   "metadata": {},
   "source": [
    "##1.3 R language"
   ]
  },
  {
   "cell_type": "code",
   "execution_count": null,
   "metadata": {
    "collapsed": false
   },
   "outputs": [],
   "source": [
    "Fact <- function(n) if (n == 1) 1 else n * Fact(n - 1)\n",
    "Fact(5)"
   ]
  },
  {
   "cell_type": "markdown",
   "metadata": {},
   "source": [
    "##1.4Plots, trends, and seasonal variation"
   ]
  },
  {
   "cell_type": "markdown",
   "metadata": {},
   "source": [
    "###1.4.1A flying start  Air passenger bookings"
   ]
  },
  {
   "cell_type": "code",
   "execution_count": null,
   "metadata": {
    "collapsed": false
   },
   "outputs": [],
   "source": [
    "data(AirPassengers)"
   ]
  },
  {
   "cell_type": "code",
   "execution_count": null,
   "metadata": {
    "collapsed": true
   },
   "outputs": [],
   "source": [
    "AP <- AirPassengers"
   ]
  },
  {
   "cell_type": "code",
   "execution_count": null,
   "metadata": {
    "collapsed": false
   },
   "outputs": [],
   "source": [
    "AP"
   ]
  },
  {
   "cell_type": "code",
   "execution_count": null,
   "metadata": {
    "collapsed": false
   },
   "outputs": [],
   "source": [
    "class(AP)"
   ]
  },
  {
   "cell_type": "code",
   "execution_count": null,
   "metadata": {
    "collapsed": false
   },
   "outputs": [],
   "source": [
    "start(AP); end(AP); frequency(AP)"
   ]
  },
  {
   "cell_type": "code",
   "execution_count": null,
   "metadata": {
    "collapsed": false
   },
   "outputs": [],
   "source": [
    "plot(AP, ylab = \"Passengers (1000 ' s)\")"
   ]
  },
  {
   "cell_type": "code",
   "execution_count": null,
   "metadata": {
    "collapsed": false
   },
   "outputs": [],
   "source": [
    "layout(1:2)\n",
    "plot(aggregate(AP))\n",
    "boxplot(AP ~ cycle(AP))"
   ]
  },
  {
   "cell_type": "markdown",
   "metadata": {},
   "source": [
    "###1.4.2 Unemployment: Maine"
   ]
  },
  {
   "cell_type": "code",
   "execution_count": null,
   "metadata": {
    "collapsed": false
   },
   "outputs": [],
   "source": [
    "# www <- \"http://www.massey.ac.nz/~pscowper/ts/Maine.dat\"\n",
    "Maine.month <- read.table('Maine.dat', header = TRUE)\n",
    "attach(Maine.month)\n",
    "class(Maine.month)"
   ]
  },
  {
   "cell_type": "code",
   "execution_count": null,
   "metadata": {
    "collapsed": false
   },
   "outputs": [],
   "source": [
    "Maine.month.ts <- ts(unemploy, start = c(1996, 1), freq = 12)"
   ]
  },
  {
   "cell_type": "code",
   "execution_count": null,
   "metadata": {
    "collapsed": false
   },
   "outputs": [],
   "source": [
    "Maine.annual.ts <- aggregate(Maine.month.ts)/12"
   ]
  },
  {
   "cell_type": "code",
   "execution_count": null,
   "metadata": {
    "collapsed": false
   },
   "outputs": [],
   "source": [
    "layout(1:2)\n",
    "plot(Maine.month.ts, ylab = \"unemployed (%)\")\n",
    "plot(Maine.annual.ts, ylab = \"unemployed (%)\")"
   ]
  },
  {
   "cell_type": "code",
   "execution_count": null,
   "metadata": {
    "collapsed": false
   },
   "outputs": [],
   "source": [
    "Maine.Feb <- window(Maine.month.ts, start = c(1996,2), freq = TRUE)\n",
    "Maine.Aug <- window(Maine.month.ts, start = c(1996,8), freq = TRUE)\n",
    "Feb.ratio <- mean(Maine.Feb) / mean(Maine.month.ts)\n",
    "Aug.ratio <- mean(Maine.Aug) / mean(Maine.month.ts)"
   ]
  },
  {
   "cell_type": "code",
   "execution_count": null,
   "metadata": {
    "collapsed": false,
    "scrolled": true
   },
   "outputs": [],
   "source": [
    "# www <- \"http://www.massey.ac.nz/~pscowper/ts/USunemp.dat\"\n",
    "US.month <- read.table('USunemp.dat', header = T)\n",
    "attach(US.month)\n",
    "US.month.ts <- ts(USun, start=c(1996,1), end=c(2006,10), freq = 12)\n",
    "plot(US.month.ts, ylab = \"unemployed (%)\")"
   ]
  },
  {
   "cell_type": "markdown",
   "metadata": {},
   "source": [
    "###1.4.3Multiple time series: Electricity, beer and chocolate data"
   ]
  },
  {
   "cell_type": "code",
   "execution_count": null,
   "metadata": {
    "collapsed": true
   },
   "outputs": [],
   "source": [
    "# www <- \"http://www.massey.ac.nz/~pscowper/ts/cbe.dat\"\n",
    "CBE <- read.table('cbe.dat', header = T)"
   ]
  },
  {
   "cell_type": "code",
   "execution_count": null,
   "metadata": {
    "collapsed": false
   },
   "outputs": [],
   "source": [
    "class(CBE)"
   ]
  },
  {
   "cell_type": "code",
   "execution_count": null,
   "metadata": {
    "collapsed": false
   },
   "outputs": [],
   "source": [
    "Elec.ts <- ts(CBE[, 3], start = 1958, freq = 12)\n",
    "Beer.ts <- ts(CBE[, 2], start = 1958, freq = 12)\n",
    "Choc.ts <- ts(CBE[, 1], start = 1958, freq = 12)\n",
    "plot(cbind(Elec.ts, Beer.ts, Choc.ts))"
   ]
  },
  {
   "cell_type": "code",
   "execution_count": null,
   "metadata": {
    "collapsed": true
   },
   "outputs": [],
   "source": [
    "AP.elec <- ts.intersect(AP, Elec.ts)"
   ]
  },
  {
   "cell_type": "code",
   "execution_count": null,
   "metadata": {
    "collapsed": false
   },
   "outputs": [],
   "source": [
    "start(AP.elec)"
   ]
  },
  {
   "cell_type": "code",
   "execution_count": null,
   "metadata": {
    "collapsed": false
   },
   "outputs": [],
   "source": [
    "end(AP.elec)"
   ]
  },
  {
   "cell_type": "code",
   "execution_count": null,
   "metadata": {
    "collapsed": false
   },
   "outputs": [],
   "source": [
    "AP.elec[1:3, ]"
   ]
  },
  {
   "cell_type": "code",
   "execution_count": null,
   "metadata": {
    "collapsed": false
   },
   "outputs": [],
   "source": [
    "AP <- AP.elec[,1]; Elec <- AP.elec[,2]\n",
    "layout(1:2)\n",
    "plot(AP, main = \"\", ylab = \"Air passengers / 1000 ' s\")\n",
    "plot(Elec, main = \"\", ylab = \"Electricity production / MkWh\")\n",
    "plot(as.vector(AP), as.vector(Elec),\n",
    "xlab = \"Air passengers / 1000 ' s\",\n",
    "ylab = \"Electricity production / MWh\")\n",
    "abline(reg = lm(Elec ~ AP))"
   ]
  },
  {
   "cell_type": "markdown",
   "metadata": {},
   "source": [
    "###1.4.4 Quarterly exchange rate: GBP to NZ dollar"
   ]
  },
  {
   "cell_type": "code",
   "execution_count": null,
   "metadata": {
    "collapsed": false
   },
   "outputs": [],
   "source": [
    "# www <- \"http://www.massey.ac.nz/~pscowper/ts/pounds_nz.dat\"\n",
    "Z <- read.table('pounds_nz.dat', header = T)\n",
    "Z[1:4, ]\n",
    "Z.ts <- ts(Z, st = 1991, fr = 4)"
   ]
  },
  {
   "cell_type": "code",
   "execution_count": null,
   "metadata": {
    "collapsed": false
   },
   "outputs": [],
   "source": [
    "plot(Z.ts, xlab = \"time / years\",\n",
    "ylab = \"Quarterly exchange rate in $NZ / pound\")"
   ]
  },
  {
   "cell_type": "code",
   "execution_count": null,
   "metadata": {
    "collapsed": false
   },
   "outputs": [],
   "source": [
    "Z.92.96 <- window(Z.ts, start = c(1992, 1), end = c(1996, 1))\n",
    "Z.96.98 <- window(Z.ts, start = c(1996, 1), end = c(1998, 1))\n",
    "layout (1:2)\n",
    "plot(Z.92.96, ylab = \"Exchange rate in $NZ/pound\",xlab = \"Time (years)\" )\n",
    "plot(Z.96.98, ylab = \"Exchange rate in $NZ/pound\",xlab = \"Time (years)\" )"
   ]
  },
  {
   "cell_type": "code",
   "execution_count": null,
   "metadata": {
    "collapsed": false
   },
   "outputs": [],
   "source": [
    "# www <- \"http://www.massey.ac.nz/~pscowper/ts/global.dat\"\n",
    "Global <- scan('global.dat')\n",
    "Global.ts <- ts(Global, st = c(1856, 1), end = c(2005, 12),fr = 12)\n",
    "Global.annual <- aggregate(Global.ts, FUN = mean)\n",
    "plot(Global.ts)\n",
    "plot(Global.annual)"
   ]
  },
  {
   "cell_type": "code",
   "execution_count": null,
   "metadata": {
    "collapsed": false
   },
   "outputs": [],
   "source": [
    "New.series <- window(Global.ts, start=c(1970, 1), end=c(2005, 12))\n",
    "New.time <- time(New.series)\n",
    "plot(New.series); abline(reg=lm(New.series ~ New.time))"
   ]
  },
  {
   "cell_type": "markdown",
   "metadata": {},
   "source": [
    "###1.5.5 Decomp osition in R"
   ]
  },
  {
   "cell_type": "code",
   "execution_count": null,
   "metadata": {
    "collapsed": false,
    "scrolled": false
   },
   "outputs": [],
   "source": [
    "plot(decompose(Elec.ts))\n",
    "Elec.decom <- decompose(Elec.ts, type = \"mult\")\n",
    "plot(Elec.decom)\n",
    "Trend <- Elec.decom$trend\n",
    "Seasonal <- Elec.decom$seasonal\n",
    "ts.plot(cbind(Trend, Trend * Seasonal), lty = 1:2)"
   ]
  },
  {
   "cell_type": "code",
   "execution_count": null,
   "metadata": {
    "collapsed": true
   },
   "outputs": [],
   "source": []
  }
 ],
 "metadata": {
  "kernelspec": {
   "display_name": "R",
   "language": "R",
   "name": "ir"
  },
  "language_info": {
   "codemirror_mode": "r",
   "file_extension": ".r",
   "mimetype": "text/x-r-source",
   "name": "R",
   "pygments_lexer": "r",
   "version": "3.1.3"
  }
 },
 "nbformat": 4,
 "nbformat_minor": 0
}
